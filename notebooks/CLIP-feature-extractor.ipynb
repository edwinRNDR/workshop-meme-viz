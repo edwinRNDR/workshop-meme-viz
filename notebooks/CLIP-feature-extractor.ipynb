{
  "nbformat": 4,
  "nbformat_minor": 0,
  "metadata": {
    "colab": {
      "provenance": [],
      "collapsed_sections": []
    },
    "kernelspec": {
      "name": "python3",
      "display_name": "Python 3"
    },
    "language_info": {
      "name": "python"
    },
    "accelerator": "GPU"
  },
  "cells": [
    {
      "cell_type": "markdown",
      "source": [
        "[![Open In Colab](https://colab.research.google.com/assets/colab-badge.svg)](https://colab.research.google.com/github/edwinRNDR/workshop-meme-viz/blob/master/notebooks/CLIP-feature-extractor.ipynb)\n",
        "\n",
        "\n",
        "# CLIP prompt feature extractor"
      ],
      "metadata": {
        "id": "1H8cp3ZBNQ9G"
      }
    },
    {
      "cell_type": "markdown",
      "source": [
        "## Install dependencies\n"
      ],
      "metadata": {
        "id": "m_TAqvwgNJEW"
      }
    },
    {
      "cell_type": "code",
      "execution_count": 1,
      "metadata": {
        "colab": {
          "base_uri": "https://localhost:8080/"
        },
        "id": "8RtvaG52MM3p",
        "outputId": "8d0d891c-6acf-4e12-f187-04733a68b313"
      },
      "outputs": [
        {
          "output_type": "stream",
          "name": "stdout",
          "text": [
            "Looking in indexes: https://pypi.org/simple, https://us-python.pkg.dev/colab-wheels/public/simple/\n",
            "Collecting transformers==4.23.1\n",
            "  Downloading transformers-4.23.1-py3-none-any.whl (5.3 MB)\n",
            "\u001b[K     |████████████████████████████████| 5.3 MB 5.1 MB/s \n",
            "\u001b[?25hRequirement already satisfied: scipy==1.7.3 in /usr/local/lib/python3.7/dist-packages (1.7.3)\n",
            "Requirement already satisfied: pandas==1.3.5 in /usr/local/lib/python3.7/dist-packages (1.3.5)\n",
            "Requirement already satisfied: scikit-learn in /usr/local/lib/python3.7/dist-packages (1.0.2)\n",
            "Requirement already satisfied: requests in /usr/local/lib/python3.7/dist-packages (from transformers==4.23.1) (2.23.0)\n",
            "Collecting tokenizers!=0.11.3,<0.14,>=0.11.1\n",
            "  Downloading tokenizers-0.13.1-cp37-cp37m-manylinux_2_17_x86_64.manylinux2014_x86_64.whl (7.6 MB)\n",
            "\u001b[K     |████████████████████████████████| 7.6 MB 41.5 MB/s \n",
            "\u001b[?25hRequirement already satisfied: numpy>=1.17 in /usr/local/lib/python3.7/dist-packages (from transformers==4.23.1) (1.21.6)\n",
            "Requirement already satisfied: filelock in /usr/local/lib/python3.7/dist-packages (from transformers==4.23.1) (3.8.0)\n",
            "Requirement already satisfied: importlib-metadata in /usr/local/lib/python3.7/dist-packages (from transformers==4.23.1) (4.13.0)\n",
            "Requirement already satisfied: pyyaml>=5.1 in /usr/local/lib/python3.7/dist-packages (from transformers==4.23.1) (6.0)\n",
            "Requirement already satisfied: regex!=2019.12.17 in /usr/local/lib/python3.7/dist-packages (from transformers==4.23.1) (2022.6.2)\n",
            "Collecting huggingface-hub<1.0,>=0.10.0\n",
            "  Downloading huggingface_hub-0.10.1-py3-none-any.whl (163 kB)\n",
            "\u001b[K     |████████████████████████████████| 163 kB 74.1 MB/s \n",
            "\u001b[?25hRequirement already satisfied: packaging>=20.0 in /usr/local/lib/python3.7/dist-packages (from transformers==4.23.1) (21.3)\n",
            "Requirement already satisfied: tqdm>=4.27 in /usr/local/lib/python3.7/dist-packages (from transformers==4.23.1) (4.64.1)\n",
            "Requirement already satisfied: python-dateutil>=2.7.3 in /usr/local/lib/python3.7/dist-packages (from pandas==1.3.5) (2.8.2)\n",
            "Requirement already satisfied: pytz>=2017.3 in /usr/local/lib/python3.7/dist-packages (from pandas==1.3.5) (2022.4)\n",
            "Requirement already satisfied: typing-extensions>=3.7.4.3 in /usr/local/lib/python3.7/dist-packages (from huggingface-hub<1.0,>=0.10.0->transformers==4.23.1) (4.1.1)\n",
            "Requirement already satisfied: pyparsing!=3.0.5,>=2.0.2 in /usr/local/lib/python3.7/dist-packages (from packaging>=20.0->transformers==4.23.1) (3.0.9)\n",
            "Requirement already satisfied: six>=1.5 in /usr/local/lib/python3.7/dist-packages (from python-dateutil>=2.7.3->pandas==1.3.5) (1.15.0)\n",
            "Requirement already satisfied: threadpoolctl>=2.0.0 in /usr/local/lib/python3.7/dist-packages (from scikit-learn) (3.1.0)\n",
            "Requirement already satisfied: joblib>=0.11 in /usr/local/lib/python3.7/dist-packages (from scikit-learn) (1.2.0)\n",
            "Requirement already satisfied: zipp>=0.5 in /usr/local/lib/python3.7/dist-packages (from importlib-metadata->transformers==4.23.1) (3.9.0)\n",
            "Requirement already satisfied: certifi>=2017.4.17 in /usr/local/lib/python3.7/dist-packages (from requests->transformers==4.23.1) (2022.9.24)\n",
            "Requirement already satisfied: urllib3!=1.25.0,!=1.25.1,<1.26,>=1.21.1 in /usr/local/lib/python3.7/dist-packages (from requests->transformers==4.23.1) (1.24.3)\n",
            "Requirement already satisfied: idna<3,>=2.5 in /usr/local/lib/python3.7/dist-packages (from requests->transformers==4.23.1) (2.10)\n",
            "Requirement already satisfied: chardet<4,>=3.0.2 in /usr/local/lib/python3.7/dist-packages (from requests->transformers==4.23.1) (3.0.4)\n",
            "Installing collected packages: tokenizers, huggingface-hub, transformers\n",
            "Successfully installed huggingface-hub-0.10.1 tokenizers-0.13.1 transformers-4.23.1\n"
          ]
        }
      ],
      "source": [
        "!pip3 install transformers==4.23.1 scipy==1.7.3 pandas==1.3.5 scikit-learn==1.0.2\n",
        "#!pip3 install tsnecuda==3.0.1+cu112 -f https://tsnecuda.isx.ai/tsnecuda_stable.html"
      ]
    },
    {
      "cell_type": "markdown",
      "source": [
        "## Download dataset"
      ],
      "metadata": {
        "id": "WiFVjWnJNhDX"
      }
    },
    {
      "cell_type": "code",
      "source": [
        "%%capture\n",
        "!gdown 1lGoNJBM3cNEe935eO9MvFkQLIYnAppjj\n",
        "!unzip scraped-memes.zip"
      ],
      "metadata": {
        "id": "rPXwAkmKPwYD"
      },
      "execution_count": 2,
      "outputs": []
    },
    {
      "cell_type": "markdown",
      "source": [
        "## Configure prompts"
      ],
      "metadata": {
        "id": "vQiDsOPVORfo"
      }
    },
    {
      "cell_type": "code",
      "source": [
        "prompts = [\"a photograph of a man\",\n",
        "           \"a photograph of a woman\", \n",
        "           \"a photograph of a group of people\",\n",
        "           \"a photograph of a young man\",\n",
        "           \"a photograph of an old man\",\n",
        "           \"a photograph of a young woman\",\n",
        "           \"a photograph of an old man2\",\n",
        "           \"a dark background\",\n",
        "           \"a bright background\",\n",
        "           \"a photograph of a happy person\",\n",
        "           \"a photograph of an angry person\",\n",
        "           \"a photograph of a sad person\",\n",
        "           \"a photograph of a drawing\",\n",
        "           \"a photograph of an ugly person\",\n",
        "           \"a photograph of a pretty person\"\n",
        "          ]"
      ],
      "metadata": {
        "id": "QPO5eXo5NlIc"
      },
      "execution_count": 3,
      "outputs": []
    },
    {
      "cell_type": "markdown",
      "source": [
        "## Extract features\n",
        "\n",
        "Use CLIP to extract features from images\n",
        "\n"
      ],
      "metadata": {
        "id": "pIllIX7VNooC"
      }
    },
    {
      "cell_type": "code",
      "source": [
        "import os\n",
        "from transformers import CLIPProcessor, CLIPModel\n",
        "import pandas as pd\n",
        "from PIL import Image\n",
        "from torch.cuda.amp import autocast\n",
        "from tqdm import tqdm\n",
        "\n",
        "device = \"cuda\"\n",
        "\n",
        "model = CLIPModel.from_pretrained(\"openai/clip-vit-base-patch32\")\n",
        "processor = CLIPProcessor.from_pretrained(\"openai/clip-vit-base-patch32\")\n",
        "\n",
        "model = model.to(device)\n",
        "#processor = processor.to(device)\n",
        "\n",
        "image_dir = \"scraped-memes\"\n",
        "source_dirs = [f for f in os.listdir(image_dir) if os.path.isdir(os.path.join(image_dir, f))]\n",
        "\n",
        "\n",
        "prompt_logits_path = \"prompt-logits.csv\"\n",
        "\n",
        "with autocast():\n",
        "  with open(prompt_logits_path, \"w\") as f:\n",
        "    print(\",\".join(prompts),file=f)\n",
        "    for source_dir in tqdm(sorted(source_dirs)):\n",
        "        image_path = os.path.join(image_dir, source_dir, \"meme-image.jpg\")\n",
        "\n",
        "        if os.path.exists(image_path):\n",
        "            image = Image.open(image_path)\n",
        "            inputs = processor(text=prompts, images=image, return_tensors=\"pt\", padding=True).to(device)\n",
        "\n",
        "            outputs = model(**inputs)\n",
        "\n",
        "            logits_per_image = outputs.logits_per_image  # this is the image-text similarity score\n",
        "            logits = [str(logits_per_image[0][index].item()) for index, label in enumerate(prompts)]\n",
        "            print(\",\".join(logits),file=f)\n",
        "            "
      ],
      "metadata": {
        "colab": {
          "base_uri": "https://localhost:8080/"
        },
        "id": "s4cou5zLNsjP",
        "outputId": "56cedea9-5e43-4fad-9a52-975a2333cf90"
      },
      "execution_count": 6,
      "outputs": [
        {
          "output_type": "stream",
          "name": "stderr",
          "text": [
            " 50%|█████     | 3143/6245 [02:17<02:09, 23.99it/s]/usr/local/lib/python3.7/dist-packages/PIL/Image.py:960: UserWarning: Palette images with Transparency expressed in bytes should be converted to RGBA images\n",
            "  \"Palette images with Transparency expressed in bytes should be \"\n",
            "100%|██████████| 6245/6245 [05:06<00:00, 20.38it/s]\n"
          ]
        }
      ]
    },
    {
      "cell_type": "markdown",
      "source": [
        "## Reduce features to two dimensions using TSNE"
      ],
      "metadata": {
        "id": "MyjwsuV7TUlz"
      }
    },
    {
      "cell_type": "code",
      "source": [
        "from sklearn.manifold import TSNE\n",
        "import pandas as pd\n",
        "\n",
        "prompt_logits_path = \"prompt-logits.csv\"\n",
        "\n",
        "\n",
        "features = pd.read_csv(prompt_logits_path)\n",
        "print(features.shape)\n",
        "\n",
        "tsne = TSNE(n_components=2, perplexity=25, learning_rate=10)\n",
        "embed = tsne.fit_transform(features)\n",
        "embed = embed.reshape(features.shape[0],2)\n",
        "pd.DataFrame(embed).to_csv(\"prompt-tsne.csv\")\n",
        "\n"
      ],
      "metadata": {
        "colab": {
          "base_uri": "https://localhost:8080/"
        },
        "id": "LY6TyhoeTk59",
        "outputId": "c6c8dcaf-9d79-43af-ba2f-17965724af87"
      },
      "execution_count": 7,
      "outputs": [
        {
          "output_type": "stream",
          "name": "stdout",
          "text": [
            "(6245, 15)\n"
          ]
        },
        {
          "output_type": "stream",
          "name": "stderr",
          "text": [
            "/usr/local/lib/python3.7/dist-packages/sklearn/manifold/_t_sne.py:783: FutureWarning: The default initialization in TSNE will change from 'random' to 'pca' in 1.2.\n",
            "  FutureWarning,\n"
          ]
        }
      ]
    },
    {
      "cell_type": "code",
      "source": [
        "import matplotlib.pyplot as plt\n",
        "\n",
        "plt.scatter(embed[:,0], embed[:,1])\n",
        "plt.title(\"tsne\")\n",
        "plt.show()\n",
        "\n"
      ],
      "metadata": {
        "colab": {
          "base_uri": "https://localhost:8080/",
          "height": 281
        },
        "id": "dg9L8cM9SCP5",
        "outputId": "f73387bc-0cab-4576-f3e7-51d15e7137f2"
      },
      "execution_count": 9,
      "outputs": [
        {
          "output_type": "display_data",
          "data": {
            "text/plain": [
              "<Figure size 432x288 with 1 Axes>"
            ],
            "image/png": "[encoded data removed]"
          },
          "metadata": {
            "needs_background": "light"
          }
        }
      ]
    }
  ]
}